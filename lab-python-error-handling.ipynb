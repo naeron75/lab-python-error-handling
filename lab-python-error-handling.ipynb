{
 "cells": [
  {
   "cell_type": "markdown",
   "id": "25d7736c-ba17-4aff-b6bb-66eba20fbf4e",
   "metadata": {},
   "source": [
    "# Lab | Error Handling"
   ]
  },
  {
   "cell_type": "markdown",
   "id": "bc99b386-7508-47a0-bcdb-d969deaf6c8b",
   "metadata": {},
   "source": [
    "## Exercise: Error Handling for Managing Customer Orders\n",
    "\n",
    "The implementation of your code for managing customer orders assumes that the user will always enter a valid input. \n",
    "\n",
    "For example, we could modify the `initialize_inventory` function to include error handling.\n",
    "   - If the user enters an invalid quantity (e.g., a negative value or a non-numeric value), display an error message and ask them to re-enter the quantity for that product.\n",
    "   - Use a try-except block to handle the error and continue prompting the user until a valid quantity is entered.\n",
    "\n",
    "```python\n",
    "# Step 1: Define the function for initializing the inventory with error handling\n",
    "def initialize_inventory(products):\n",
    "    inventory = {}\n",
    "    for product in products:\n",
    "        valid_quantity = False\n",
    "        while not valid_quantity:\n",
    "            try:\n",
    "                quantity = int(input(f\"Enter the quantity of {product}s available: \"))\n",
    "                if quantity < 0:\n",
    "                    raise ValueError(\"Invalid quantity! Please enter a non-negative value.\")\n",
    "                valid_quantity = True\n",
    "            except ValueError as error:\n",
    "                print(f\"Error: {error}\")\n",
    "        inventory[product] = quantity\n",
    "    return inventory\n",
    "\n",
    "# Or, in another way:\n",
    "\n",
    "def initialize_inventory(products):\n",
    "    inventory = {}\n",
    "    for product in products:\n",
    "        valid_input = False\n",
    "        while not valid_input:\n",
    "            try:\n",
    "                quantity = int(input(f\"Enter the quantity of {product}s available: \"))\n",
    "                if quantity >= 0:\n",
    "                    inventory[product] = quantity\n",
    "                    valid_input = True\n",
    "                else:\n",
    "                    print(\"Quantity cannot be negative. Please enter a valid quantity.\")\n",
    "            except ValueError:\n",
    "                print(\"Invalid input. Please enter a valid quantity.\")\n",
    "    return inventory\n",
    "```\n",
    "\n",
    "Let's enhance your code by implementing error handling to handle invalid inputs.\n",
    "\n",
    "Follow the steps below to complete the exercise:\n",
    "\n",
    "2. Modify the `calculate_total_price` function to include error handling.\n",
    "   - If the user enters an invalid price (e.g., a negative value or a non-numeric value), display an error message and ask them to re-enter the price for that product.\n",
    "   - Use a try-except block to handle the error and continue prompting the user until a valid price is entered.\n",
    "\n",
    "3. Modify the `get_customer_orders` function to include error handling.\n",
    "   - If the user enters an invalid number of orders (e.g., a negative value or a non-numeric value), display an error message and ask them to re-enter the number of orders.\n",
    "   - If the user enters an invalid product name (e.g., a product name that is not in the inventory), or that doesn't have stock available, display an error message and ask them to re-enter the product name. *Hint: you will need to pass inventory as a parameter*\n",
    "   - Use a try-except block to handle the error and continue prompting the user until a valid product name is entered.\n",
    "\n",
    "4. Test your code by running the program and deliberately entering invalid quantities and product names. Make sure the error handling mechanism works as expected.\n"
   ]
  },
  {
   "cell_type": "code",
   "execution_count": 3,
   "id": "1f956928-a0e5-49e4-927b-694927b79fe1",
   "metadata": {},
   "outputs": [],
   "source": [
    "# 1.\n",
    "def initialize_inventory (products):\n",
    "    inventory = {}\n",
    "    for product in products:\n",
    "        valid_input = False\n",
    "        while not valid_input:\n",
    "            try:\n",
    "                quantity = int(input(f\"Enter the quantity of {product}s available: \"))\n",
    "                if quantity >= 0:\n",
    "                    inventory[product] = quantity\n",
    "                    valid_input = True\n",
    "                else:\n",
    "                    print(\"Quantity cannot be negative. Please enter a valid quantity.\")\n",
    "            except ValueError:\n",
    "                print(\"Invalid input. Please enter a valid quantity.\")\n",
    "    return inventory\n",
    "def update_inventory (customer_orders, inventory):\n",
    "    for product in customer_orders:\n",
    "        inventory[product] = inventory[product] - 1\n",
    "def print_updated_inventory(inventory):\n",
    "    print(\"Updated Inventory:\")\n",
    "    for product in inventory:\n",
    "        print(product, \": \", inventory[product])"
   ]
  },
  {
   "cell_type": "code",
   "execution_count": 4,
   "id": "f7ca811e-bc53-4da4-88c2-6d6dc8528b76",
   "metadata": {},
   "outputs": [],
   "source": [
    "# 2.\n",
    "def calculate_total_price(customer_orders):\n",
    "    prices=[]\n",
    "    for product in customer_orders:\n",
    "        valid_input = False\n",
    "        while not valid_input:\n",
    "            try:\n",
    "                price = int(input(f\"Enter the price of {product} : \"))\n",
    "                if price >0:\n",
    "                    prices.append(price)\n",
    "                    valid_input=True\n",
    "                else:\n",
    "                    print(\"Price can't be negative or zero. Please enter a valid price\")\n",
    "            except ValueError:\n",
    "                print(\"Invalid input. Please enter a valid price.\")\n",
    "    total_price = float(sum(prices))\n",
    "    return total_price"
   ]
  },
  {
   "cell_type": "code",
   "execution_count": 5,
   "id": "84a774f1-0853-4442-af9c-ae222e7b3e56",
   "metadata": {},
   "outputs": [],
   "source": [
    "# 3.\n",
    "def get_customer_orders(inventory):\n",
    "    customer_orders=set()\n",
    "    valid_input=False\n",
    "    while not valid_input:\n",
    "        try:\n",
    "            number_orders=int(input(\"Enter the number of customer orders: \"))\n",
    "            if number_orders > 0:\n",
    "                for i in range(number_orders):\n",
    "                    valid_order=False\n",
    "                    while  not valid_order:\n",
    "                        try:\n",
    "                            order = input(\"Enter the name of a product that a customer wants to order: \")\n",
    "                            if order in list(inventory.keys()):\n",
    "                                customer_orders.add(order)\n",
    "                                valid_order=True\n",
    "                            else:\n",
    "                                print(\"Enter a product that is in stock please.\")\n",
    "                        except ValueError:\n",
    "                            print(\"Please enter a valid product name\")\n",
    "                    valid_input=True\n",
    "            else:\n",
    "                print(\"Enter a valid number of orders.\")\n",
    "        except ValueError:\n",
    "                print(\"Invalid input. Please enter a valid number of orders.\")\n",
    "    return customer_orders"
   ]
  },
  {
   "cell_type": "code",
   "execution_count": 6,
   "id": "58ed3551-18f1-4957-bca7-1327e952f0f5",
   "metadata": {},
   "outputs": [],
   "source": [
    "def update_inventory (customer_orders, inventory):\n",
    "    for product in customer_orders:\n",
    "        inventory[product] = inventory[product] - 1\n",
    "    #inventory = {product: inventory[product] -1 for product in customer_orders}\n",
    "    empty = [product for product in inventory if inventory[product]==0]\n",
    "    for rm in empty:\n",
    "        inventory.pop(rm)\n",
    "    return inventory"
   ]
  },
  {
   "cell_type": "code",
   "execution_count": 7,
   "id": "8beb6d1f-a865-47bd-83d8-deb9313eb90d",
   "metadata": {},
   "outputs": [],
   "source": [
    "def calculate_order_statistics(customer_orders, products):\n",
    "    total_products_ordered = len(customer_orders)\n",
    "    total_unique_products = len(products)\n",
    "    percentage_ordered = (total_products_ordered / total_unique_products)*100\n",
    "    return total_products_ordered, percentage_ordered\n",
    "def print_order_statistics(order_statistics):\n",
    "    print(\"\\nOrder statistics : \\nTotal Products Ordered:\",order_statistics[0], \"\\nPercentage of Unique Products Ordered :\",order_statistics[1],\"\\n\")"
   ]
  },
  {
   "cell_type": "code",
   "execution_count": 8,
   "id": "61f37141-03c5-4af0-8f15-4f46e9c9bc32",
   "metadata": {},
   "outputs": [
    {
     "name": "stdin",
     "output_type": "stream",
     "text": [
      "Enter the quantity of t-shirts available:  hello\n"
     ]
    },
    {
     "name": "stdout",
     "output_type": "stream",
     "text": [
      "Invalid input. Please enter a valid quantity.\n"
     ]
    },
    {
     "name": "stdin",
     "output_type": "stream",
     "text": [
      "Enter the quantity of t-shirts available:  -54\n"
     ]
    },
    {
     "name": "stdout",
     "output_type": "stream",
     "text": [
      "Quantity cannot be negative. Please enter a valid quantity.\n"
     ]
    },
    {
     "name": "stdin",
     "output_type": "stream",
     "text": [
      "Enter the quantity of t-shirts available:  0\n",
      "Enter the quantity of mugs available:  t\n"
     ]
    },
    {
     "name": "stdout",
     "output_type": "stream",
     "text": [
      "Invalid input. Please enter a valid quantity.\n"
     ]
    },
    {
     "name": "stdin",
     "output_type": "stream",
     "text": [
      "Enter the quantity of mugs available:  4\n",
      "Enter the quantity of hats available:  bye\n"
     ]
    },
    {
     "name": "stdout",
     "output_type": "stream",
     "text": [
      "Invalid input. Please enter a valid quantity.\n"
     ]
    },
    {
     "name": "stdin",
     "output_type": "stream",
     "text": [
      "Enter the quantity of hats available:  -8942.24\n"
     ]
    },
    {
     "name": "stdout",
     "output_type": "stream",
     "text": [
      "Invalid input. Please enter a valid quantity.\n"
     ]
    },
    {
     "name": "stdin",
     "output_type": "stream",
     "text": [
      "Enter the quantity of hats available:  58\n",
      "Enter the quantity of books available:  2\n",
      "Enter the quantity of keychains available:  e\n"
     ]
    },
    {
     "name": "stdout",
     "output_type": "stream",
     "text": [
      "Invalid input. Please enter a valid quantity.\n"
     ]
    },
    {
     "name": "stdin",
     "output_type": "stream",
     "text": [
      "Enter the quantity of keychains available:  2\n",
      "Enter the number of customer orders:  bye\n"
     ]
    },
    {
     "name": "stdout",
     "output_type": "stream",
     "text": [
      "Invalid input. Please enter a valid number of orders.\n"
     ]
    },
    {
     "name": "stdin",
     "output_type": "stream",
     "text": [
      "Enter the number of customer orders:  -5\n"
     ]
    },
    {
     "name": "stdout",
     "output_type": "stream",
     "text": [
      "Enter a valid number of orders.\n"
     ]
    },
    {
     "name": "stdin",
     "output_type": "stream",
     "text": [
      "Enter the number of customer orders:  0\n"
     ]
    },
    {
     "name": "stdout",
     "output_type": "stream",
     "text": [
      "Enter a valid number of orders.\n"
     ]
    },
    {
     "name": "stdin",
     "output_type": "stream",
     "text": [
      "Enter the number of customer orders:  2\n",
      "Enter the name of a product that a customer wants to order:  kitchen tool\n"
     ]
    },
    {
     "name": "stdout",
     "output_type": "stream",
     "text": [
      "Enter a product that is in stock please.\n"
     ]
    },
    {
     "name": "stdin",
     "output_type": "stream",
     "text": [
      "Enter the name of a product that a customer wants to order:  5\n"
     ]
    },
    {
     "name": "stdout",
     "output_type": "stream",
     "text": [
      "Enter a product that is in stock please.\n"
     ]
    },
    {
     "name": "stdin",
     "output_type": "stream",
     "text": [
      "Enter the name of a product that a customer wants to order:  laptop\n"
     ]
    },
    {
     "name": "stdout",
     "output_type": "stream",
     "text": [
      "Enter a product that is in stock please.\n"
     ]
    },
    {
     "name": "stdin",
     "output_type": "stream",
     "text": [
      "Enter the name of a product that a customer wants to order:  hat\n",
      "Enter the name of a product that a customer wants to order:  keychain\n"
     ]
    },
    {
     "name": "stdout",
     "output_type": "stream",
     "text": [
      "\n",
      "Order statistics : \n",
      "Total Products Ordered: 2 \n",
      "Percentage of Unique Products Ordered : 40.0 \n",
      "\n",
      "Updated Inventory:\n",
      "mug :  4\n",
      "hat :  57\n",
      "book :  2\n",
      "keychain :  1\n"
     ]
    },
    {
     "name": "stdin",
     "output_type": "stream",
     "text": [
      "Enter the price of keychain :  2\n",
      "Enter the price of hat :  10\n"
     ]
    },
    {
     "name": "stdout",
     "output_type": "stream",
     "text": [
      "Total Price :  12.0\n"
     ]
    }
   ],
   "source": [
    "# 4.\n",
    "products = [\"t-shirt\", \"mug\", \"hat\", \"book\", \"keychain\"]\n",
    "inventory = initialize_inventory(products)\n",
    "customer_orders = get_customer_orders(inventory)\n",
    "inventory = update_inventory(customer_orders, inventory)\n",
    "order_stats = calculate_order_statistics(customer_orders,products)\n",
    "print_order_statistics(order_stats)\n",
    "print_updated_inventory(inventory)\n",
    "total_price = calculate_total_price(customer_orders)\n",
    "print(\"Total Price : \",total_price)"
   ]
  },
  {
   "cell_type": "code",
   "execution_count": null,
   "id": "ddc6f744-1fe0-4b13-9a04-ca77d0cb6dd4",
   "metadata": {},
   "outputs": [],
   "source": []
  }
 ],
 "metadata": {
  "kernelspec": {
   "display_name": "Python 3 (ipykernel)",
   "language": "python",
   "name": "python3"
  },
  "language_info": {
   "codemirror_mode": {
    "name": "ipython",
    "version": 3
   },
   "file_extension": ".py",
   "mimetype": "text/x-python",
   "name": "python",
   "nbconvert_exporter": "python",
   "pygments_lexer": "ipython3",
   "version": "3.12.4"
  }
 },
 "nbformat": 4,
 "nbformat_minor": 5
}
